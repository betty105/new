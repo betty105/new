{
  "nbformat": 4,
  "nbformat_minor": 0,
  "metadata": {
    "colab": {
      "name": "selctionsort.ipynb",
      "provenance": [],
      "collapsed_sections": [],
      "include_colab_link": true
    },
    "kernelspec": {
      "name": "python3",
      "display_name": "Python 3"
    }
  },
  "cells": [
    {
      "cell_type": "markdown",
      "metadata": {
        "id": "view-in-github",
        "colab_type": "text"
      },
      "source": [
        "<a href=\"https://colab.research.google.com/github/betty105/new/blob/master/Hashing%20Search.ipynb\" target=\"_parent\"><img src=\"https://colab.research.google.com/assets/colab-badge.svg\" alt=\"Open In Colab\"/></a>"
      ]
    },
    {
      "cell_type": "markdown",
      "metadata": {
        "id": "W-Z0kMaDLJOp"
      },
      "source": [
        "Selection sort (選擇排序)"
      ]
    },
    {
      "cell_type": "code",
      "metadata": {
        "id": "8tM3sv79HQ_V",
        "outputId": "a77be69a-9d0d-4c73-ff04-43aae48aef86",
        "colab": {
          "base_uri": "https://localhost:8080/",
          "height": 398
        }
      },
      "source": [
        "import random\n",
        "INDEXBOX=10 #雜湊表最大元素\n",
        "MAXNUM=7   #最大資料個數\n",
        "def print_data(data,max_number): #列印陣列副程式\n",
        "  print('\\t',end='')\n",
        "  for i in range(max_number):\n",
        "    print('[%2d] '%data[i],end='')\n",
        "  print()\n",
        "def create_table(num,index): #建立雜湊表副程式\n",
        "  tmp=num%INDEXBOX     #雜湊函數=資料%INDEXBOX\n",
        "  while True:\n",
        "    if index[tmp]==-1: #如果資料對應的位置是空的\n",
        "      index[tmp]=num  #則直接存入資料\n",
        "      break\n",
        "    else:\n",
        "      tmp=(tmp+1)%INDEXBOX #否則往後找位置存放\n",
        "index=[None]*INDEXBOX\n",
        "data=[None]*MAXNUM \n",
        "print('原始陣列值:')\n",
        "for i in range(MAXNUM): #起始資料值\n",
        "  data[i]=random.randint(1,20)\n",
        "for i in range(INDEXBOX): #清除雜湊法\n",
        "  index[i]=-1\n",
        "print_data(data,MAXNUM) #列印起始資料\n",
        "print('雜湊表內容:')\n",
        "for i in range(MAXNUM):\n",
        "  create_table(data[i],index)\n",
        "  print(' %2d=>'%data[i],end='') #列印單一元素的雜湊表位置\n",
        "  print_data(index,INDEXBOX)\n",
        "print('完成雜湊表:')\n",
        "print_data(index,INDEXBOX) #列印最完成結果\n",
        "Aa\n"
      ],
      "execution_count": 1,
      "outputs": [
        {
          "output_type": "stream",
          "text": [
            "原始陣列值:\n",
            "\t[15] [19] [ 7] [ 6] [ 3] [ 8] [17] \n",
            "雜湊表內容:\n",
            " 15=>\t[-1] [-1] [-1] [-1] [-1] [15] [-1] [-1] [-1] [-1] \n",
            " 19=>\t[-1] [-1] [-1] [-1] [-1] [15] [-1] [-1] [-1] [19] \n",
            "  7=>\t[-1] [-1] [-1] [-1] [-1] [15] [-1] [ 7] [-1] [19] \n",
            "  6=>\t[-1] [-1] [-1] [-1] [-1] [15] [ 6] [ 7] [-1] [19] \n",
            "  3=>\t[-1] [-1] [-1] [ 3] [-1] [15] [ 6] [ 7] [-1] [19] \n",
            "  8=>\t[-1] [-1] [-1] [ 3] [-1] [15] [ 6] [ 7] [ 8] [19] \n",
            " 17=>\t[17] [-1] [-1] [ 3] [-1] [15] [ 6] [ 7] [ 8] [19] \n",
            "完成雜湊表:\n",
            "\t[17] [-1] [-1] [ 3] [-1] [15] [ 6] [ 7] [ 8] [19] \n"
          ],
          "name": "stdout"
        },
        {
          "output_type": "error",
          "ename": "NameError",
          "evalue": "ignored",
          "traceback": [
            "\u001b[0;31m---------------------------------------------------------------------------\u001b[0m",
            "\u001b[0;31mNameError\u001b[0m                                 Traceback (most recent call last)",
            "\u001b[0;32m<ipython-input-1-7141679f856a>\u001b[0m in \u001b[0;36m<module>\u001b[0;34m()\u001b[0m\n\u001b[1;32m     30\u001b[0m \u001b[0mprint\u001b[0m\u001b[0;34m(\u001b[0m\u001b[0;34m'完成雜湊表:'\u001b[0m\u001b[0;34m)\u001b[0m\u001b[0;34m\u001b[0m\u001b[0;34m\u001b[0m\u001b[0m\n\u001b[1;32m     31\u001b[0m \u001b[0mprint_data\u001b[0m\u001b[0;34m(\u001b[0m\u001b[0mindex\u001b[0m\u001b[0;34m,\u001b[0m\u001b[0mINDEXBOX\u001b[0m\u001b[0;34m)\u001b[0m\u001b[0;34m\u001b[0m\u001b[0;34m\u001b[0m\u001b[0m\n\u001b[0;32m---> 32\u001b[0;31m \u001b[0mAa\u001b[0m\u001b[0;34m\u001b[0m\u001b[0;34m\u001b[0m\u001b[0m\n\u001b[0m",
            "\u001b[0;31mNameError\u001b[0m: name 'Aa' is not defined"
          ]
        }
      ]
    },
    {
      "cell_type": "code",
      "metadata": {
        "id": "PEcIzeM2LOJn",
        "outputId": "880166a4-5439-45a9-ae86-d0e4a012b343",
        "colab": {
          "base_uri": "https://localhost:8080/",
          "height": 482
        }
      },
      "source": [
        "import random #平方探測\n",
        "INDEXBOX=10\n",
        "MAXNUM=7\n",
        "def print_data(data,max_number):\n",
        "  print('\\t',end='')\n",
        "  for i in range(max_number):\n",
        "    print('[%2d] '%data[i],end='')\n",
        "  print()\n",
        "def create_table(num,index):\n",
        "  tmp=num%INDEXBOX\n",
        "  basictmp=tmp\n",
        "  j=0\n",
        "  while True:\n",
        "    if index[tmp]==-1:\n",
        "      index[tmp]=num\n",
        "      break\n",
        "    else:\n",
        "      j+=1\n",
        "      tmp=(basictmp+(j)**2)%INDEXBOX\n",
        "      print(\"collision\")\n",
        "index=[None]*INDEXBOX\n",
        "data=[None]*MAXNUM\n",
        "print('原始陣列值:')\n",
        "for i in range(MAXNUM):\n",
        "  data[i]=random.randint(1,20)\n",
        "for i in range(INDEXBOX):\n",
        "  index[i]=-1\n",
        "print_data(data,MAXNUM)\n",
        "print('雜湊表內容(第一個數為0):')\n",
        "for i in range(MAXNUM):\n",
        "  create_table(data[i],index)\n",
        "  print(' %2d=>'%data[i],end='')\n",
        "  print_data(index,INDEXBOX)\n",
        "print('完成雜湊表:')\n",
        "print_data(index,INDEXBOX)\n",
        "Aa\n",
        "\n"
      ],
      "execution_count": 5,
      "outputs": [
        {
          "output_type": "stream",
          "text": [
            "原始陣列值:\n",
            "\t[11] [ 3] [11] [ 8] [18] [11] [ 6] \n",
            "雜湊表內容(第一個數為0):\n",
            " 11=>\t[-1] [11] [-1] [-1] [-1] [-1] [-1] [-1] [-1] [-1] \n",
            "  3=>\t[-1] [11] [-1] [ 3] [-1] [-1] [-1] [-1] [-1] [-1] \n",
            "collision\n",
            " 11=>\t[-1] [11] [11] [ 3] [-1] [-1] [-1] [-1] [-1] [-1] \n",
            "  8=>\t[-1] [11] [11] [ 3] [-1] [-1] [-1] [-1] [ 8] [-1] \n",
            "collision\n",
            " 18=>\t[-1] [11] [11] [ 3] [-1] [-1] [-1] [-1] [ 8] [18] \n",
            "collision\n",
            "collision\n",
            " 11=>\t[-1] [11] [11] [ 3] [-1] [11] [-1] [-1] [ 8] [18] \n",
            "  6=>\t[-1] [11] [11] [ 3] [-1] [11] [ 6] [-1] [ 8] [18] \n",
            "完成雜湊表:\n",
            "\t[-1] [11] [11] [ 3] [-1] [11] [ 6] [-1] [ 8] [18] \n"
          ],
          "name": "stdout"
        },
        {
          "output_type": "error",
          "ename": "NameError",
          "evalue": "ignored",
          "traceback": [
            "\u001b[0;31m---------------------------------------------------------------------------\u001b[0m",
            "\u001b[0;31mNameError\u001b[0m                                 Traceback (most recent call last)",
            "\u001b[0;32m<ipython-input-5-71dae5fa3284>\u001b[0m in \u001b[0;36m<module>\u001b[0;34m()\u001b[0m\n\u001b[1;32m     34\u001b[0m \u001b[0mprint\u001b[0m\u001b[0;34m(\u001b[0m\u001b[0;34m'完成雜湊表:'\u001b[0m\u001b[0;34m)\u001b[0m\u001b[0;34m\u001b[0m\u001b[0;34m\u001b[0m\u001b[0m\n\u001b[1;32m     35\u001b[0m \u001b[0mprint_data\u001b[0m\u001b[0;34m(\u001b[0m\u001b[0mindex\u001b[0m\u001b[0;34m,\u001b[0m\u001b[0mINDEXBOX\u001b[0m\u001b[0;34m)\u001b[0m\u001b[0;34m\u001b[0m\u001b[0;34m\u001b[0m\u001b[0m\n\u001b[0;32m---> 36\u001b[0;31m \u001b[0mAa\u001b[0m\u001b[0;34m\u001b[0m\u001b[0;34m\u001b[0m\u001b[0m\n\u001b[0m\u001b[1;32m     37\u001b[0m \u001b[0;34m\u001b[0m\u001b[0m\n",
            "\u001b[0;31mNameError\u001b[0m: name 'Aa' is not defined"
          ]
        }
      ]
    },
    {
      "cell_type": "code",
      "metadata": {
        "id": "-zSOB8F_LY3g",
        "outputId": "35e4d98c-e2fc-4ec4-d7fb-4706aebf8f06",
        "colab": {
          "base_uri": "https://localhost:8080/",
          "height": 466
        }
      },
      "source": [
        "import random #再雜湊\n",
        "INDEXBOX=10\n",
        "MAXNUM=7\n",
        "def print_data(data,max_number):\n",
        "  print('\\t',end='')\n",
        "  for i in range(max_number):\n",
        "    print('[%2d] '%data[i],end='')\n",
        "  print()\n",
        "def create_table(num,index):\n",
        "  tmp=num%INDEXBOX\n",
        "  basictmp=tmp\n",
        "  j=0\n",
        "  while True:\n",
        "    if index[tmp]==-1:\n",
        "      index[tmp]=num\n",
        "      break\n",
        "    else:\n",
        "      j+=1\n",
        "      tmp=(basictmp+(j)*2)%INDEXBOX\n",
        "      print(\"collision\")\n",
        "index=[None]*INDEXBOX\n",
        "data=[None]*MAXNUM\n",
        "print('原始陣列值:')\n",
        "for i in range(MAXNUM):\n",
        "  data[i]=random.randint(1,20)\n",
        "for i in range(INDEXBOX):\n",
        "  index[i]=-1\n",
        "print_data(data,MAXNUM)\n",
        "print('雜湊表內容(第一個數為0):')\n",
        "for i in range(MAXNUM):\n",
        "  create_table(data[i],index)\n",
        "  print(' %2d=>'%data[i],end='')\n",
        "  print_data(index,INDEXBOX)\n",
        "print('完成雜湊表:')\n",
        "print_data(index,INDEXBOX)\n",
        "Aa"
      ],
      "execution_count": 6,
      "outputs": [
        {
          "output_type": "stream",
          "text": [
            "原始陣列值:\n",
            "\t[ 3] [18] [20] [13] [12] [ 1] [18] \n",
            "雜湊表內容(第一個數為0):\n",
            "  3=>\t[-1] [-1] [-1] [ 3] [-1] [-1] [-1] [-1] [-1] [-1] \n",
            " 18=>\t[-1] [-1] [-1] [ 3] [-1] [-1] [-1] [-1] [18] [-1] \n",
            " 20=>\t[20] [-1] [-1] [ 3] [-1] [-1] [-1] [-1] [18] [-1] \n",
            "collision\n",
            " 13=>\t[20] [-1] [-1] [ 3] [-1] [13] [-1] [-1] [18] [-1] \n",
            " 12=>\t[20] [-1] [12] [ 3] [-1] [13] [-1] [-1] [18] [-1] \n",
            "  1=>\t[20] [ 1] [12] [ 3] [-1] [13] [-1] [-1] [18] [-1] \n",
            "collision\n",
            "collision\n",
            "collision\n",
            " 18=>\t[20] [ 1] [12] [ 3] [18] [13] [-1] [-1] [18] [-1] \n",
            "完成雜湊表:\n",
            "\t[20] [ 1] [12] [ 3] [18] [13] [-1] [-1] [18] [-1] \n"
          ],
          "name": "stdout"
        },
        {
          "output_type": "error",
          "ename": "NameError",
          "evalue": "ignored",
          "traceback": [
            "\u001b[0;31m---------------------------------------------------------------------------\u001b[0m",
            "\u001b[0;31mNameError\u001b[0m                                 Traceback (most recent call last)",
            "\u001b[0;32m<ipython-input-6-6a6918564ee5>\u001b[0m in \u001b[0;36m<module>\u001b[0;34m()\u001b[0m\n\u001b[1;32m     34\u001b[0m \u001b[0mprint\u001b[0m\u001b[0;34m(\u001b[0m\u001b[0;34m'完成雜湊表:'\u001b[0m\u001b[0;34m)\u001b[0m\u001b[0;34m\u001b[0m\u001b[0;34m\u001b[0m\u001b[0m\n\u001b[1;32m     35\u001b[0m \u001b[0mprint_data\u001b[0m\u001b[0;34m(\u001b[0m\u001b[0mindex\u001b[0m\u001b[0;34m,\u001b[0m\u001b[0mINDEXBOX\u001b[0m\u001b[0;34m)\u001b[0m\u001b[0;34m\u001b[0m\u001b[0;34m\u001b[0m\u001b[0m\n\u001b[0;32m---> 36\u001b[0;31m \u001b[0mAa\u001b[0m\u001b[0;34m\u001b[0m\u001b[0;34m\u001b[0m\u001b[0m\n\u001b[0m",
            "\u001b[0;31mNameError\u001b[0m: name 'Aa' is not defined"
          ]
        }
      ]
    },
    {
      "cell_type": "markdown",
      "metadata": {
        "id": "MiWPt8bALDN5"
      },
      "source": [
        "請加入註解\n"
      ]
    }
  ]
}