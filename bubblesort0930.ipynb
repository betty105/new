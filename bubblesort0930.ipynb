{
  "nbformat": 4,
  "nbformat_minor": 0,
  "metadata": {
    "colab": {
      "name": "bubblesort.ipynb",
      "provenance": [],
      "include_colab_link": true
    },
    "kernelspec": {
      "name": "python3",
      "display_name": "Python 3"
    }
  },
  "cells": [
    {
      "cell_type": "markdown",
      "metadata": {
        "id": "view-in-github",
        "colab_type": "text"
      },
      "source": [
        "<a href=\"https://colab.research.google.com/github/betty105/new/blob/master/bubblesort0930.ipynb\" target=\"_parent\"><img src=\"https://colab.research.google.com/assets/colab-badge.svg\" alt=\"Open In Colab\"/></a>"
      ]
    },
    {
      "cell_type": "markdown",
      "metadata": {
        "id": "32sgU0StMiof"
      },
      "source": [
        "Bubble sort (氣泡排序)"
      ]
    },
    {
      "cell_type": "code",
      "metadata": {
        "id": "esB_4fSeMLYJ",
        "outputId": "6fbac447-3f5f-4d8d-9de8-1323dbe73ab2",
        "colab": {
          "base_uri": "https://localhost:8080/",
          "height": 136
        }
      },
      "source": [
        "def Bubble_Sort(datas):\n",
        "    for i in range(1, len(datas)): \n",
        "        for j in range(len(datas)-i):  \n",
        "            if datas[j] > datas[j+1]:   \n",
        "                datas[j], datas[j+1] = datas[j+1], datas[j]\n",
        "                print(datas)   #印出datas\n",
        "    return datas\n",
        "\n",
        "\n",
        "if __name__ == '__main__':\n",
        "    import random\n",
        "    # a = list(range(20))\n",
        "    b = input(\"輸入六個數\") #將數字input 會output b\n",
        "    c = b.split(\" \")    #數字之間留空格 output c\n",
        "    # random.shuffle(a)\n",
        "    print(c)\n",
        "    a = Bubble_Sort(c)\n",
        "    print(a)"
      ],
      "execution_count": 7,
      "outputs": [
        {
          "output_type": "stream",
          "text": [
            "輸入六個數11 52 44 90 8 52\n",
            "['11', '52', '44', '90', '8', '52']\n",
            "['11', '44', '52', '90', '8', '52']\n",
            "['11', '44', '52', '8', '90', '52']\n",
            "['11', '44', '52', '8', '52', '90']\n",
            "['11', '44', '52', '52', '8', '90']\n",
            "['11', '44', '52', '52', '8', '90']\n"
          ],
          "name": "stdout"
        }
      ]
    },
    {
      "cell_type": "markdown",
      "metadata": {
        "id": "MOQ_aZKnM-wL"
      },
      "source": [
        "請加入註解，並將程式修改為加入六個數做氣泡排序\n"
      ]
    }
  ]
}