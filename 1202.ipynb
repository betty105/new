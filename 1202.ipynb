{
  "nbformat": 4,
  "nbformat_minor": 0,
  "metadata": {
    "colab": {
      "name": "1202.ipynb",
      "provenance": [],
      "authorship_tag": "ABX9TyMHbOHXKRdcwvxZ8xnoFjqC",
      "include_colab_link": true
    },
    "kernelspec": {
      "name": "python3",
      "display_name": "Python 3"
    }
  },
  "cells": [
    {
      "cell_type": "markdown",
      "metadata": {
        "id": "view-in-github",
        "colab_type": "text"
      },
      "source": [
        "<a href=\"https://colab.research.google.com/github/betty105/new/blob/master/1202.ipynb\" target=\"_parent\"><img src=\"https://colab.research.google.com/assets/colab-badge.svg\" alt=\"Open In Colab\"/></a>"
      ]
    },
    {
      "cell_type": "markdown",
      "metadata": {
        "id": "Z8RpEmOfWMEv"
      },
      "source": [
        "**第一大題:找零問題**"
      ]
    },
    {
      "cell_type": "code",
      "metadata": {
        "colab": {
          "base_uri": "https://localhost:8080/"
        },
        "id": "Jc63cgCOWk8E",
        "outputId": "3f838391-c8f3-4b9d-b8b2-4c9ae5d21ba4"
      },
      "source": [
        "#貪婪\n",
        "# t = 面額\n",
        "t = [25, 20 ,5, 1]\n",
        "\n",
        "# n = 多少錢\n",
        "def change(t,n):\n",
        "\n",
        "  m=[0 for _ in range(len(t))]\n",
        "  for i , money in enumerate(t):\n",
        "    m[i] = n // money\n",
        "    n = n % money\n",
        "    print(\"已兌換的面額\", m)\n",
        "    print(\"剩餘%d元\"%n)\n",
        "  return m , n\n",
        "mon = int(input(\"需要兌換的面額\"))\n",
        "print(change(t , mon))"
      ],
      "execution_count": 40,
      "outputs": [
        {
          "output_type": "stream",
          "text": [
            "需要兌換的面額197\n",
            "已兌換的面額 [7, 0, 0, 0]\n",
            "剩餘22元\n",
            "已兌換的面額 [7, 1, 0, 0]\n",
            "剩餘2元\n",
            "已兌換的面額 [7, 1, 0, 0]\n",
            "剩餘2元\n",
            "已兌換的面額 [7, 1, 0, 2]\n",
            "剩餘0元\n",
            "([7, 1, 0, 2], 0)\n"
          ],
          "name": "stdout"
        }
      ]
    },
    {
      "cell_type": "code",
      "metadata": {
        "colab": {
          "base_uri": "https://localhost:8080/"
        },
        "id": "NoPXYEv_lEyI",
        "outputId": "7238da95-4199-42d4-b529-db6bcc3e5b9a"
      },
      "source": [
        "#動態規劃DP\n",
        "class Solution(object):\n",
        "   def coinChange(self, coins, amount):\n",
        "      if amount == 0 :\n",
        "         return 0\n",
        "      if min(coins) > amount:\n",
        "         return -1\n",
        "      dp = [-1 for i in range(0, amount + 1)]\n",
        "      for i in coins:\n",
        "         if i > len(dp) - 1:\n",
        "            continue\n",
        "         dp[i] = 1\n",
        "         for j in range(i + 1, amount + 1):\n",
        "            if dp[j - i] == -1:\n",
        "               continue\n",
        "            elif dp[j] == -1:\n",
        "               dp[j] = dp[j - i] + 1\n",
        "            else:\n",
        "               dp[j] = min(dp[j], dp[j - i] + 1)\n",
        "         #print(dp)\n",
        "      return dp[amount]\n",
        "ob1 = Solution()\n",
        "print(\"拿到最少硬幣的方法=\" ,ob1.coinChange([25,20,5,1], 107))"
      ],
      "execution_count": 46,
      "outputs": [
        {
          "output_type": "stream",
          "text": [
            "拿到最少硬幣的方法= 7\n"
          ],
          "name": "stdout"
        }
      ]
    },
    {
      "cell_type": "markdown",
      "metadata": {
        "id": "R9EElyUUfjPI"
      },
      "source": [
        "**第二大題:背包問題**"
      ]
    },
    {
      "cell_type": "code",
      "metadata": {
        "colab": {
          "base_uri": "https://localhost:8080/"
        },
        "id": "kcuZ4s4dj0vg",
        "outputId": "4fc2f6d1-e513-441e-80e1-5b397ea2ffb9"
      },
      "source": [
        "#貪婪\n",
        "goods = [(17000, 5), (35000, 1), (60000, 4), (9000, 3), (20000, 2)]\n",
        "    #我們需要對商品首先進行排序，當然這裡是排好序的 \n",
        "goods.sort(key=lambda x: x[0]/x[1], reverse=True) \n",
        "    # w 表示背包的容量 \n",
        "def fractional_backpack(goods, w):\n",
        "\n",
        "    # m 表示每個商品拿走多少個 \n",
        "  total_v = 0 \n",
        "  m = [0 for _ in range(len(goods))] \n",
        "  for i, (prize, weight) in enumerate(goods):\n",
        "    if w >= weight: \n",
        "      m[i] = 1 \n",
        "      total_v += prize \n",
        "      w -= weight  #如果最後選擇會爆掉公斤數，則會選擇價格略低的來補足公斤\n",
        "    # m[i] = 1 if w>= weight else weight / w \n",
        "\n",
        "  return m, total_v \n",
        "res1,res2 = fractional_backpack(goods, 10) \n",
        "print(res1, res2)"
      ],
      "execution_count": 42,
      "outputs": [
        {
          "output_type": "stream",
          "text": [
            "[1, 1, 1, 0, 1] 124000\n"
          ],
          "name": "stdout"
        }
      ]
    },
    {
      "cell_type": "code",
      "metadata": {
        "colab": {
          "base_uri": "https://localhost:8080/"
        },
        "id": "ns0YDnlxdJ4S",
        "outputId": "51349d8e-7089-44b7-aa70-07995b420b9d"
      },
      "source": [
        "#動態規劃DP\n",
        "def bag(n,c,w,v):\n",
        "\tres=[[-1 for j in range(c+1)] for i in range(n+1)]\n",
        "\tfor j in range(c+1):\n",
        "\t\tres[0][j]=0\n",
        "\tfor i in range(1,n+1):\n",
        "\t\tfor j in range(1,c+1):\n",
        "\t\t\tres[i][j]=res[i-1][j]\n",
        "\t\t\tif j>=w[i-1] and res[i][j]<res[i-1][j-w[i-1]]+v[i-1]:\n",
        "\t\t\t\tres[i][j]=res[i-1][j-w[i-1]]+v[i-1]\n",
        "\treturn res\n",
        "\n",
        "def show(n,c,w,res):\n",
        "\tprint('最大價值為:',res[n][c])\n",
        "\tx=[False for i in range(n)]\n",
        "\tj=c\n",
        "\tfor i in range(1,n+1):\n",
        "\t\tif res[i][j]>res[i-1][j]:\n",
        "\t\t\tx[i-1]=True\n",
        "\t\t\tj-=w[i-1]\n",
        "\tprint('選擇的物品為:')\n",
        "\tfor i in range(n):\n",
        "\t\tif x[i]:\n",
        "\t\t\tprint('第',i+1,'個,',end='')\n",
        "\tprint('')\n",
        "\n",
        "if __name__=='__main__':\n",
        "\tn=5\n",
        "\tc=10\n",
        "\tw=[1,2,3,4,5]\n",
        "\tv=[35000,20000,9000,60000,17000]\n",
        "\tres=bag(n,c,w,v)\n",
        "\tshow(n,c,w,res)"
      ],
      "execution_count": 41,
      "outputs": [
        {
          "output_type": "stream",
          "text": [
            "最大價值為: 124000\n",
            "選擇的物品為:\n",
            "第 1 個,第 2 個,第 3 個,第 4 個,\n"
          ],
          "name": "stdout"
        }
      ]
    }
  ]
}