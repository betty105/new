{
  "nbformat": 4,
  "nbformat_minor": 0,
  "metadata": {
    "colab": {
      "name": "1202.ipynb",
      "provenance": [],
      "authorship_tag": "ABX9TyN5POR7wQuWUk++BGtw9NjV",
      "include_colab_link": true
    },
    "kernelspec": {
      "name": "python3",
      "display_name": "Python 3"
    }
  },
  "cells": [
    {
      "cell_type": "markdown",
      "metadata": {
        "id": "view-in-github",
        "colab_type": "text"
      },
      "source": [
        "<a href=\"https://colab.research.google.com/github/betty105/new/blob/master/1202.ipynb\" target=\"_parent\"><img src=\"https://colab.research.google.com/assets/colab-badge.svg\" alt=\"Open In Colab\"/></a>"
      ]
    },
    {
      "cell_type": "code",
      "metadata": {
        "colab": {
          "base_uri": "https://localhost:8080/"
        },
        "id": "hZeDGnBIJZef",
        "outputId": "33ff7565-c3b3-4508-ca19-4f7712989fa2"
      },
      "source": [
        "# t = 面額\n",
        "t = [25, 20 ,5, 1]\n",
        "\n",
        "# n = 多少錢\n",
        "def change(t,n):\n",
        "\n",
        "  m=[0 for _ in range(len(t))]\n",
        "  for i , money in enumerate(t):\n",
        "    m[i] = n // money\n",
        "    n = n % money\n",
        "    print(\"已兌換的面額\", m)\n",
        "    print(\"剩餘%d元\"%n)\n",
        "  return m , n\n",
        "mon = int(input(\"需要兌換的面額\"))\n",
        "print(change(t , mon))"
      ],
      "execution_count": 17,
      "outputs": [
        {
          "output_type": "stream",
          "text": [
            "需要兌換的面額197\n",
            "已兌換的面額 [7, 0, 0, 0]\n",
            "剩餘22元\n",
            "已兌換的面額 [7, 1, 0, 0]\n",
            "剩餘2元\n",
            "已兌換的面額 [7, 1, 0, 0]\n",
            "剩餘2元\n",
            "已兌換的面額 [7, 1, 0, 2]\n",
            "剩餘0元\n",
            "([7, 1, 0, 2], 0)\n"
          ],
          "name": "stdout"
        }
      ]
    }
  ]
}