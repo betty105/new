{
  "nbformat": 4,
  "nbformat_minor": 0,
  "metadata": {
    "colab": {
      "name": "selctionsort.ipynb",
      "provenance": [],
      "collapsed_sections": [],
      "include_colab_link": true
    },
    "kernelspec": {
      "name": "python3",
      "display_name": "Python 3"
    }
  },
  "cells": [
    {
      "cell_type": "markdown",
      "metadata": {
        "id": "view-in-github",
        "colab_type": "text"
      },
      "source": [
        "<a href=\"https://colab.research.google.com/github/betty105/new/blob/master/selctionsort0930.ipynb\" target=\"_parent\"><img src=\"https://colab.research.google.com/assets/colab-badge.svg\" alt=\"Open In Colab\"/></a>"
      ]
    },
    {
      "cell_type": "markdown",
      "metadata": {
        "id": "W-Z0kMaDLJOp"
      },
      "source": [
        "Selection sort (選擇排序)"
      ]
    },
    {
      "cell_type": "code",
      "metadata": {
        "id": "8tM3sv79HQ_V",
        "outputId": "f7da9135-bcdb-40f9-a7cd-74908f656cbf",
        "colab": {
          "base_uri": "https://localhost:8080/",
          "height": 554
        }
      },
      "source": [
        "def Selction_Sort(datas):\n",
        "    for i in range(len(datas)-1):       # n\n",
        "        min = i # 第一次選從第一個數開始,第二次從第二個數開始   # 1\n",
        "        for j in range(i+1, len(datas)):    # 用記錄的max數與其他的比較   # n^n\n",
        "            if datas[j] < datas[min]: # 1\n",
        "                min = j      # 1\n",
        "\n",
        "        datas[i], datas[min] = datas[min], datas[i]   # 1\n",
        "\n",
        "        print(datas)   # 1\n",
        "        print('---'*10) # 1\n",
        "    return datas   # 1\n",
        "\n",
        "\n",
        "if __name__ == '__main__':\n",
        "    import random\n",
        "    a = list(range(16))\n",
        "    random.shuffle(a)\n",
        "    print(a)\n",
        "    a = Selction_Sort(a)\n",
        "    print(a)"
      ],
      "execution_count": null,
      "outputs": [
        {
          "output_type": "stream",
          "text": [
            "[2, 10, 8, 3, 1, 0, 15, 9, 6, 14, 4, 13, 12, 7, 5, 11]\n",
            "[0, 10, 8, 3, 1, 2, 15, 9, 6, 14, 4, 13, 12, 7, 5, 11]\n",
            "------------------------------\n",
            "[0, 1, 8, 3, 10, 2, 15, 9, 6, 14, 4, 13, 12, 7, 5, 11]\n",
            "------------------------------\n",
            "[0, 1, 2, 3, 10, 8, 15, 9, 6, 14, 4, 13, 12, 7, 5, 11]\n",
            "------------------------------\n",
            "[0, 1, 2, 3, 10, 8, 15, 9, 6, 14, 4, 13, 12, 7, 5, 11]\n",
            "------------------------------\n",
            "[0, 1, 2, 3, 4, 8, 15, 9, 6, 14, 10, 13, 12, 7, 5, 11]\n",
            "------------------------------\n",
            "[0, 1, 2, 3, 4, 5, 15, 9, 6, 14, 10, 13, 12, 7, 8, 11]\n",
            "------------------------------\n",
            "[0, 1, 2, 3, 4, 5, 6, 9, 15, 14, 10, 13, 12, 7, 8, 11]\n",
            "------------------------------\n",
            "[0, 1, 2, 3, 4, 5, 6, 7, 15, 14, 10, 13, 12, 9, 8, 11]\n",
            "------------------------------\n",
            "[0, 1, 2, 3, 4, 5, 6, 7, 8, 14, 10, 13, 12, 9, 15, 11]\n",
            "------------------------------\n",
            "[0, 1, 2, 3, 4, 5, 6, 7, 8, 9, 10, 13, 12, 14, 15, 11]\n",
            "------------------------------\n",
            "[0, 1, 2, 3, 4, 5, 6, 7, 8, 9, 10, 13, 12, 14, 15, 11]\n",
            "------------------------------\n",
            "[0, 1, 2, 3, 4, 5, 6, 7, 8, 9, 10, 11, 12, 14, 15, 13]\n",
            "------------------------------\n",
            "[0, 1, 2, 3, 4, 5, 6, 7, 8, 9, 10, 11, 12, 14, 15, 13]\n",
            "------------------------------\n",
            "[0, 1, 2, 3, 4, 5, 6, 7, 8, 9, 10, 11, 12, 13, 15, 14]\n",
            "------------------------------\n",
            "[0, 1, 2, 3, 4, 5, 6, 7, 8, 9, 10, 11, 12, 13, 14, 15]\n",
            "------------------------------\n",
            "[0, 1, 2, 3, 4, 5, 6, 7, 8, 9, 10, 11, 12, 13, 14, 15]\n"
          ],
          "name": "stdout"
        }
      ]
    },
    {
      "cell_type": "markdown",
      "metadata": {
        "id": "MiWPt8bALDN5"
      },
      "source": [
        "請加入註解\n"
      ]
    }
  ]
}