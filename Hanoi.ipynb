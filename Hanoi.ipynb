{
  "nbformat": 4,
  "nbformat_minor": 0,
  "metadata": {
    "colab": {
      "name": "selctionsort.ipynb",
      "provenance": [],
      "collapsed_sections": [],
      "include_colab_link": true
    },
    "kernelspec": {
      "name": "python3",
      "display_name": "Python 3"
    }
  },
  "cells": [
    {
      "cell_type": "markdown",
      "metadata": {
        "id": "view-in-github",
        "colab_type": "text"
      },
      "source": [
        "<a href=\"https://colab.research.google.com/github/betty105/new/blob/master/Hanoi.ipynb\" target=\"_parent\"><img src=\"https://colab.research.google.com/assets/colab-badge.svg\" alt=\"Open In Colab\"/></a>"
      ]
    },
    {
      "cell_type": "markdown",
      "metadata": {
        "id": "W-Z0kMaDLJOp"
      },
      "source": [
        "Hanoi (河內塔)"
      ]
    },
    {
      "cell_type": "code",
      "metadata": {
        "id": "8tM3sv79HQ_V",
        "outputId": "46c4936e-67b4-4cf9-f4a2-492ac7653d03",
        "colab": {
          "base_uri": "https://localhost:8080/"
        }
      },
      "source": [
        "d=1\n",
        "def hanoi(n ,A,B,C):\n",
        "  global d\n",
        "  \n",
        "  if n == 1 :\n",
        "    print(\"%c-->%c 執行次數:%d\" %(A,C,d))\n",
        "    d=d+1\n",
        "  else:\n",
        "    hanoi(n-1,A,C,B)\n",
        "    hanoi(1,A,B,C)\n",
        "    hanoi(n-1,B,A,C)\n",
        "j=int(input(\"輸入套環數量:\"))\n",
        "hanoi(j,\"A\",\"B\",\"C\")"
      ],
      "execution_count": 10,
      "outputs": [
        {
          "output_type": "stream",
          "text": [
            "輸入套環數量:5\n",
            "A-->C 執行次數:1\n",
            "A-->B 執行次數:2\n",
            "C-->B 執行次數:3\n",
            "A-->C 執行次數:4\n",
            "B-->A 執行次數:5\n",
            "B-->C 執行次數:6\n",
            "A-->C 執行次數:7\n",
            "A-->B 執行次數:8\n",
            "C-->B 執行次數:9\n",
            "C-->A 執行次數:10\n",
            "B-->A 執行次數:11\n",
            "C-->B 執行次數:12\n",
            "A-->C 執行次數:13\n",
            "A-->B 執行次數:14\n",
            "C-->B 執行次數:15\n",
            "A-->C 執行次數:16\n",
            "B-->A 執行次數:17\n",
            "B-->C 執行次數:18\n",
            "A-->C 執行次數:19\n",
            "B-->A 執行次數:20\n",
            "C-->B 執行次數:21\n",
            "C-->A 執行次數:22\n",
            "B-->A 執行次數:23\n",
            "B-->C 執行次數:24\n",
            "A-->C 執行次數:25\n",
            "A-->B 執行次數:26\n",
            "C-->B 執行次數:27\n",
            "A-->C 執行次數:28\n",
            "B-->A 執行次數:29\n",
            "B-->C 執行次數:30\n",
            "A-->C 執行次數:31\n"
          ],
          "name": "stdout"
        }
      ]
    },
    {
      "cell_type": "markdown",
      "metadata": {
        "id": "MiWPt8bALDN5"
      },
      "source": [
        "請加入註解\n"
      ]
    }
  ]
}