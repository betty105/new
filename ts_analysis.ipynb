{
  "nbformat": 4,
  "nbformat_minor": 0,
  "metadata": {
    "colab": {
      "name": "ts_analysis.ipynb",
      "provenance": [],
      "include_colab_link": true
    },
    "kernelspec": {
      "name": "python3",
      "display_name": "Python 3"
    }
  },
  "cells": [
    {
      "cell_type": "markdown",
      "metadata": {
        "id": "view-in-github",
        "colab_type": "text"
      },
      "source": [
        "<a href=\"https://colab.research.google.com/github/betty105/new/blob/master/ts_analysis.ipynb\" target=\"_parent\"><img src=\"https://colab.research.google.com/assets/colab-badge.svg\" alt=\"Open In Colab\"/></a>"
      ]
    },
    {
      "cell_type": "code",
      "metadata": {
        "id": "esB_4fSeMLYJ",
        "outputId": "99841dcd-261a-4e65-a0b4-5782b2ff7d98",
        "colab": {
          "base_uri": "https://localhost:8080/"
        }
      },
      "source": [
        "#時間與空間複雜度 \n",
        "#情境:如何判斷某年是不是閏年\n",
        "#時間換空間\n",
        "year = int(input(\"請輸入一個年份:\"))  #先輸入要查詢的年份\n",
        "if (year % 4) == 0 and (year % 100) !=0 or (year % 400) == 0:  #判斷能否被4整除，和能否被100整除或能否被400整除的年份\n",
        "    print(\"%s年是閏年\" % year)  #若能被4整除，和不能被100整除或能被400整除的年份即是閏年\n",
        "else:\n",
        "    print(\"%s年不是閏年\" % year)  #若不能被4整除，和能被100整除或不能被400整除的年份即不是閏年"
      ],
      "execution_count": null,
      "outputs": [
        {
          "output_type": "stream",
          "text": [
            "請輸入一個年份:2004\n",
            "2004年是閏年\n"
          ],
          "name": "stdout"
        }
      ]
    },
    {
      "cell_type": "code",
      "metadata": {
        "id": "XaG6aJF387EV",
        "outputId": "ffe8e6cb-08c0-4940-b94e-3f28cb7bf999",
        "colab": {
          "base_uri": "https://localhost:8080/"
        }
      },
      "source": [
        "#時間與空間複雜度 \n",
        "#情境:如何判斷某年是不是閏年\n",
        "#空間換時間(範圍2000-2040年)\n",
        "year = int(input(\"請輸入2000-2040的年份:\"))  #year等於輸入的年份\n",
        "if (year == 2000 or year == 2004 or year == 2008 or year == 2012 or year == 2016 or year == 2020 or year == 2024 or year == 2028 or year == 2032 or year == 2036 or year == 2040):  #若year指定的值等於括號內指定的值\n",
        "  print(\"{}是閏年\".format(year))  #印出的數字則為潤年\n",
        "else:\n",
        "  print(\"{}不是閏年\".format(year))  #若不是指定的值則顯示不是閏年"
      ],
      "execution_count": null,
      "outputs": [
        {
          "output_type": "stream",
          "text": [
            "請輸入2000-2040的年份:2020\n",
            "2020是閏年\n"
          ],
          "name": "stdout"
        }
      ]
    }
  ]
}