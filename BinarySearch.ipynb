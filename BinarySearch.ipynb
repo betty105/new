{
  "nbformat": 4,
  "nbformat_minor": 0,
  "metadata": {
    "colab": {
      "name": "Untitled2.ipynb",
      "provenance": [],
      "authorship_tag": "ABX9TyMO7zp4cUFf9oKHyCbvqYb8",
      "include_colab_link": true
    },
    "kernelspec": {
      "name": "python3",
      "display_name": "Python 3"
    }
  },
  "cells": [
    {
      "cell_type": "markdown",
      "metadata": {
        "id": "view-in-github",
        "colab_type": "text"
      },
      "source": [
        "<a href=\"https://colab.research.google.com/github/betty105/new/blob/master/BinarySearch.ipynb\" target=\"_parent\"><img src=\"https://colab.research.google.com/assets/colab-badge.svg\" alt=\"Open In Colab\"/></a>"
      ]
    },
    {
      "cell_type": "code",
      "metadata": {
        "id": "I4yhjKy58bOp",
        "outputId": "47bbadbe-7ae9-4c7e-9f94-5ba4eb428f80",
        "colab": {
          "base_uri": "https://localhost:8080/",
          "height": 35
        }
      },
      "source": [
        "def binarySearch (arr,l,r,x):\n",
        "  if r >= l:\n",
        "    mid = l+(r-1)//2\n",
        "    if arr[mid] == x:\n",
        "      return mid\n",
        "    elif arr[mid] > x:\n",
        "      return binarySearch(arr,l,mid-1,x)\n",
        "    else:\n",
        "       return binarySearch(arr,mid+1,r,x)\n",
        "  else:\n",
        "    return-1\n",
        "arr = [5,8,9,15,30] #要找的在這行\n",
        "x = 9\n",
        "# Function call\n",
        "result = binarySearch(arr,0,len(arr)-1,x)\n",
        "if result != -1:\n",
        "  print(\"元素在索引%d\"%result)\n",
        "else:\n",
        "  print(\"陣列中找不到該元素\")"
      ],
      "execution_count": 1,
      "outputs": [
        {
          "output_type": "stream",
          "text": [
            "元素在索引2\n"
          ],
          "name": "stdout"
        }
      ]
    },
    {
      "cell_type": "code",
      "metadata": {
        "id": "_d3JyLxkACz5",
        "outputId": "49c75e6f-536a-4d86-ce39-bfec7f824475",
        "colab": {
          "base_uri": "https://localhost:8080/",
          "height": 126
        }
      },
      "source": [
        "def binarySearch (arr,l,r,x):\n",
        "  if r >= l:\n",
        "    mid = l+(r-1)//2\n",
        "    if arr[mid] == x:\n",
        "      return mid\n",
        "    elif arr[mid] > x:\n",
        "      return binarySearch(arr,l,mid-1,x)\n",
        "    else:\n",
        "       return binarySearch(arr,mid+1,r,x)\n",
        "  else:\n",
        "    return-1\n",
        "#arr = [15,38,29,9,45] 要找的在這行\n",
        "#x = 9\n",
        "def Bubble_Sort(datas):\n",
        "    for i in range(1, len(datas)): \n",
        "        for j in range(len(datas)-i):  \n",
        "            if datas[j] > datas[j+1]:   \n",
        "                datas[j], datas[j+1] = datas[j+1], datas[j]\n",
        "                print(datas)   #印出datas\n",
        "    return datas\n",
        "\n",
        "\n",
        "if __name__ == '__main__':\n",
        "    import random\n",
        "    # a = list(range(20))\n",
        "    b = input(\"輸入五個數\") #將數字input 會output b\n",
        "    c = b.split(\" \")    #數字之間留空格 output c\n",
        "    # random.shuffle(a)\n",
        "    print(c)\n",
        "    a = Bubble_Sort(c)\n",
        "    print(a)\n",
        "# Function call\n",
        "result = binarySearch(arr,0,len(arr)-1,x)\n",
        "if result != -1:\n",
        "  print(\"元素在索引%d\"%result)\n",
        "else:\n",
        "  print(\"陣列中找不到該元素\")"
      ],
      "execution_count": 5,
      "outputs": [
        {
          "output_type": "stream",
          "text": [
            "輸入五個數15 38 29 9 45\n",
            "['15', '38', '29', '9', '45']\n",
            "['15', '29', '38', '9', '45']\n",
            "['15', '29', '38', '45', '9']\n",
            "['15', '29', '38', '45', '9']\n",
            "陣列中找不到該元素\n"
          ],
          "name": "stdout"
        }
      ]
    },
    {
      "cell_type": "code",
      "metadata": {
        "id": "2ret0vsG_mFW"
      },
      "source": [
        ""
      ],
      "execution_count": null,
      "outputs": []
    }
  ]
}