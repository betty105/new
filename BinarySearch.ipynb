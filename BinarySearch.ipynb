{
  "nbformat": 4,
  "nbformat_minor": 0,
  "metadata": {
    "colab": {
      "name": "Untitled2.ipynb",
      "provenance": [],
      "authorship_tag": "ABX9TyPV2sJfBTWomFzu0kJRFsUt",
      "include_colab_link": true
    },
    "kernelspec": {
      "name": "python3",
      "display_name": "Python 3"
    }
  },
  "cells": [
    {
      "cell_type": "markdown",
      "metadata": {
        "id": "view-in-github",
        "colab_type": "text"
      },
      "source": [
        "<a href=\"https://colab.research.google.com/github/betty105/new/blob/master/BinarySearch.ipynb\" target=\"_parent\"><img src=\"https://colab.research.google.com/assets/colab-badge.svg\" alt=\"Open In Colab\"/></a>"
      ]
    },
    {
      "cell_type": "code",
      "metadata": {
        "id": "I4yhjKy58bOp",
        "outputId": "47bbadbe-7ae9-4c7e-9f94-5ba4eb428f80",
        "colab": {
          "base_uri": "https://localhost:8080/",
          "height": 35
        }
      },
      "source": [
        "def binarySearch (arr,l,r,x):\n",
        "  if r >= l:\n",
        "    mid = l+(r-1)//2\n",
        "    if arr[mid] == x:\n",
        "      return mid\n",
        "    elif arr[mid] > x:\n",
        "      return binarySearch(arr,l,mid-1,x)\n",
        "    else:\n",
        "       return binarySearch(arr,mid+1,r,x)\n",
        "  else:\n",
        "    return-1\n",
        "arr = [5,8,9,15,30] #要找的在這行\n",
        "x = 9\n",
        "# Function call\n",
        "result = binarySearch(arr,0,len(arr)-1,x)\n",
        "if result != -1:\n",
        "  print(\"元素在索引%d\"%result)\n",
        "else:\n",
        "  print(\"陣列中找不到該元素\")"
      ],
      "execution_count": null,
      "outputs": [
        {
          "output_type": "stream",
          "text": [
            "元素在索引2\n"
          ],
          "name": "stdout"
        }
      ]
    },
    {
      "cell_type": "code",
      "metadata": {
        "id": "_d3JyLxkACz5",
        "outputId": "36258807-99a5-45e7-b8f3-af9929994468",
        "colab": {
          "base_uri": "https://localhost:8080/",
          "height": 199
        }
      },
      "source": [
        "def binarySearch (arr,l,r,x):\n",
        "  if r >= l:\n",
        "    mid = l+(r-1)//2\n",
        "    if arr[mid] == x:\n",
        "      return mid\n",
        "    elif arr[mid] > x:\n",
        "      return binarySearch(arr,l,mid-1,x)\n",
        "    else:\n",
        "       return binarySearch(arr,mid+1,r,x)\n",
        "  else:\n",
        "    return-1\n",
        "#arr = [15,38,29,9,45] 要找的在這行\n",
        "#x = 9\n",
        "def Bubble_Sort(datas):\n",
        "    for i in range(1, len(datas)): \n",
        "        for j in range(len(datas)-i):  \n",
        "            if datas[j] > datas[j+1]:   \n",
        "                datas[j], datas[j+1] = datas[j+1], datas[j]\n",
        "                print(datas)   #印出datas\n",
        "    return datas\n",
        "\n",
        "\n",
        "b = input(\"輸入五個數\") #將數字input 會output b\n",
        "c = b.split(\" \")    #數字之間留空格 output c\n",
        "#print(c)\n",
        "a = Bubble_Sort(c)\n",
        "print(a)\n",
        "for i ,d in enumerate(a):\n",
        "  a[i]=int(d)\n",
        "keyin = input(str(\"選擇一個作排序\"))\n",
        "# Function call\n",
        "result = binarySearch(a,0,len(a)-1,int(keyin))\n",
        "if result != -1:\n",
        "  print(\"元素在索引%d\"%result)\n",
        "else:\n",
        "  print(\"陣列中找不到該元素\")"
      ],
      "execution_count": 4,
      "outputs": [
        {
          "output_type": "stream",
          "text": [
            "輸入五個數5 2 3 1 4\n",
            "['2', '5', '3', '1', '4']\n",
            "['2', '3', '5', '1', '4']\n",
            "['2', '3', '1', '5', '4']\n",
            "['2', '3', '1', '4', '5']\n",
            "['2', '1', '3', '4', '5']\n",
            "['1', '2', '3', '4', '5']\n",
            "['1', '2', '3', '4', '5']\n",
            "選擇一個作排序2\n",
            "元素在索引1\n"
          ],
          "name": "stdout"
        }
      ]
    },
    {
      "cell_type": "code",
      "metadata": {
        "id": "2ret0vsG_mFW"
      },
      "source": [
        ""
      ],
      "execution_count": null,
      "outputs": []
    }
  ]
}