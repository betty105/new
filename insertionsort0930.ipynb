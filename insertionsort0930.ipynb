{
  "nbformat": 4,
  "nbformat_minor": 0,
  "metadata": {
    "colab": {
      "name": "insertionsort.ipynb",
      "provenance": [],
      "collapsed_sections": [],
      "include_colab_link": true
    },
    "kernelspec": {
      "name": "python3",
      "display_name": "Python 3"
    }
  },
  "cells": [
    {
      "cell_type": "markdown",
      "metadata": {
        "id": "view-in-github",
        "colab_type": "text"
      },
      "source": [
        "<a href=\"https://colab.research.google.com/github/betty105/new/blob/master/insertionsort0930.ipynb\" target=\"_parent\"><img src=\"https://colab.research.google.com/assets/colab-badge.svg\" alt=\"Open In Colab\"/></a>"
      ]
    },
    {
      "cell_type": "markdown",
      "metadata": {
        "id": "j95w6SLwOC0z"
      },
      "source": [
        "Insertion sort (插入排序)"
      ]
    },
    {
      "cell_type": "code",
      "metadata": {
        "id": "BxBaYEwzNj_v",
        "outputId": "890328bc-7434-4a63-8e79-2734bca46fd7",
        "colab": {
          "base_uri": "https://localhost:8080/",
          "height": 302
        }
      },
      "source": [
        "\n",
        "def Insertion_Sort(datas):\n",
        "    for i in range(1, len(datas)):       # n \n",
        "        for j in range(i):          # n^n\n",
        "            current = datas[i]      # 1\n",
        "            if current < datas[j]:    #1\n",
        "                for k in range(i,j): #n^3\n",
        "                  print(datas)     #1\n",
        "    return datas                   #1\n",
        "\n",
        "\n",
        "def insertionSort(arr):\n",
        "    for i in range(len(arr)):\n",
        "        preIndex = i-1\n",
        "        current = arr[i]\n",
        "        while preIndex >= 0 and arr[preIndex] > current:\n",
        "            arr[preIndex+1] = arr[preIndex]\n",
        "            preIndex-=1\n",
        "        arr[preIndex+1] = current\n",
        "        print(arr)\n",
        "    return arr\n",
        "\n",
        "if __name__ == '__main__':\n",
        "    import random\n",
        "    a = list(range(16))\n",
        "    random.shuffle(a)\n",
        "    b = a.copy()\n",
        "\n",
        "    arr = insertionSort(a)\n",
        "    print('---'*10)\n",
        "    Insertion_Sort(b)"
      ],
      "execution_count": null,
      "outputs": [
        {
          "output_type": "stream",
          "text": [
            "[0, 6, 15, 12, 13, 3, 4, 10, 9, 5, 14, 2, 11, 7, 8, 1]\n",
            "[0, 6, 15, 12, 13, 3, 4, 10, 9, 5, 14, 2, 11, 7, 8, 1]\n",
            "[0, 6, 15, 12, 13, 3, 4, 10, 9, 5, 14, 2, 11, 7, 8, 1]\n",
            "[0, 6, 12, 15, 13, 3, 4, 10, 9, 5, 14, 2, 11, 7, 8, 1]\n",
            "[0, 6, 12, 13, 15, 3, 4, 10, 9, 5, 14, 2, 11, 7, 8, 1]\n",
            "[0, 3, 6, 12, 13, 15, 4, 10, 9, 5, 14, 2, 11, 7, 8, 1]\n",
            "[0, 3, 4, 6, 12, 13, 15, 10, 9, 5, 14, 2, 11, 7, 8, 1]\n",
            "[0, 3, 4, 6, 10, 12, 13, 15, 9, 5, 14, 2, 11, 7, 8, 1]\n",
            "[0, 3, 4, 6, 9, 10, 12, 13, 15, 5, 14, 2, 11, 7, 8, 1]\n",
            "[0, 3, 4, 5, 6, 9, 10, 12, 13, 15, 14, 2, 11, 7, 8, 1]\n",
            "[0, 3, 4, 5, 6, 9, 10, 12, 13, 14, 15, 2, 11, 7, 8, 1]\n",
            "[0, 2, 3, 4, 5, 6, 9, 10, 12, 13, 14, 15, 11, 7, 8, 1]\n",
            "[0, 2, 3, 4, 5, 6, 9, 10, 11, 12, 13, 14, 15, 7, 8, 1]\n",
            "[0, 2, 3, 4, 5, 6, 7, 9, 10, 11, 12, 13, 14, 15, 8, 1]\n",
            "[0, 2, 3, 4, 5, 6, 7, 8, 9, 10, 11, 12, 13, 14, 15, 1]\n",
            "[0, 1, 2, 3, 4, 5, 6, 7, 8, 9, 10, 11, 12, 13, 14, 15]\n",
            "------------------------------\n"
          ],
          "name": "stdout"
        }
      ]
    }
  ]
}