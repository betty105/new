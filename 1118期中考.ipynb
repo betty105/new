{
  "nbformat": 4,
  "nbformat_minor": 0,
  "metadata": {
    "colab": {
      "name": "selctionsort.ipynb",
      "provenance": [],
      "collapsed_sections": [],
      "include_colab_link": true
    },
    "kernelspec": {
      "name": "python3",
      "display_name": "Python 3"
    }
  },
  "cells": [
    {
      "cell_type": "markdown",
      "metadata": {
        "id": "view-in-github",
        "colab_type": "text"
      },
      "source": [
        "<a href=\"https://colab.research.google.com/github/betty105/new/blob/master/1118%E6%9C%9F%E4%B8%AD%E8%80%83.ipynb\" target=\"_parent\"><img src=\"https://colab.research.google.com/assets/colab-badge.svg\" alt=\"Open In Colab\"/></a>"
      ]
    },
    {
      "cell_type": "markdown",
      "metadata": {
        "id": "W-Z0kMaDLJOp"
      },
      "source": [
        "Selection sort (選擇排序)"
      ]
    },
    {
      "cell_type": "code",
      "metadata": {
        "id": "8tM3sv79HQ_V",
        "colab": {
          "base_uri": "https://localhost:8080/"
        },
        "outputId": "73faac86-95fd-43c3-b56a-89e077cf61bc"
      },
      "source": [
        "def Selction_Sort(datas):   #選擇排序 #(大到小)\n",
        "    for i in range(len(datas)-1):  #把隨機選取的數字從第一個開始判斷\n",
        "        min = i\n",
        "        b=8       #因原始的程式是由小排到大，因此計算方式是1~8，需要由8開始減至1來做顯示\n",
        "        for j in range(i+1, len(datas)):    \n",
        "            if datas[j] > datas[min]:   #將原本的小至大改成大至小(>)  \n",
        "                min = j  \n",
        "                b=b-1\n",
        "            else:\n",
        "                b=b-1   #if跟else都需要-1，才會兩者都有包含在第%d次數列裡面\n",
        "        datas[i], datas[min] = datas[min], datas[i] \n",
        "        print(\"第%d次數列\"%b)\n",
        "        print(datas) \n",
        "        print('---'*10) \n",
        "    return datas \n",
        "\n",
        "\n",
        "if __name__ == '__main__': \n",
        "    import random\n",
        "    a = list(range(1,9))  #把range改成裡面共有8個數並做洗牌\n",
        "    random.shuffle(a)\n",
        "    print(\"原始數列:\"%a)\n",
        "    a = Selction_Sort(a)\n",
        "    print(a)"
      ],
      "execution_count": 2,
      "outputs": [
        {
          "output_type": "stream",
          "text": [
            "原始數列:\n",
            "第1次數列\n",
            "[8, 2, 1, 7, 6, 5, 3, 4]\n",
            "------------------------------\n",
            "第2次數列\n",
            "[8, 7, 1, 2, 6, 5, 3, 4]\n",
            "------------------------------\n",
            "第3次數列\n",
            "[8, 7, 6, 2, 1, 5, 3, 4]\n",
            "------------------------------\n",
            "第4次數列\n",
            "[8, 7, 6, 5, 1, 2, 3, 4]\n",
            "------------------------------\n",
            "第5次數列\n",
            "[8, 7, 6, 5, 4, 2, 3, 1]\n",
            "------------------------------\n",
            "第6次數列\n",
            "[8, 7, 6, 5, 4, 3, 2, 1]\n",
            "------------------------------\n",
            "第7次數列\n",
            "[8, 7, 6, 5, 4, 3, 2, 1]\n",
            "------------------------------\n",
            "[8, 7, 6, 5, 4, 3, 2, 1]\n"
          ],
          "name": "stdout"
        }
      ]
    },
    {
      "cell_type": "code",
      "metadata": {
        "id": "Uwz1ErLE3Jxc",
        "colab": {
          "base_uri": "https://localhost:8080/"
        },
        "outputId": "987ece59-30f3-4760-ca8a-cc41eedaeaf1"
      },
      "source": [
        "def insertionsort(arr): #插入排序 #(小到大)\n",
        "  for i in range(0,len(arr)):    #把隨機選取的數從第一個開始判斷     \n",
        "    index=i              #index是用來設界線\n",
        "    while arr[index]<arr[index-1] and index>0:   #同之前的插入排序，只是把裡面的大小符號換邊即可由小到大\n",
        "      buffer=arr[index]            \n",
        "      arr[index]=arr[index-1]         \n",
        "      arr[index-1]=buffer           \n",
        "      index-=1            #置換左右兩數是為當前所要判定的數做邊界判定\n",
        "    print(\"第\",i+1,\"次數列 \",arr)                 \n",
        "\n",
        "import random\n",
        "list=[]\n",
        "for i in range(8):     #將裡面的數設1~9 讓裡面有8個數\n",
        "  a=random.randint(1,100)\n",
        "  list.append(a)       #將隨機數a放進LIST裡面做insertion_sort\n",
        "print(\"原始數列\",list)\n",
        "insertionsort(list)"
      ],
      "execution_count": null,
      "outputs": [
        {
          "output_type": "stream",
          "text": [
            "原始數列 [80, 50, 68, 44, 93, 91, 64, 4]\n",
            "第 1 次數列  [80, 50, 68, 44, 93, 91, 64, 4]\n",
            "第 2 次數列  [50, 80, 68, 44, 93, 91, 64, 4]\n",
            "第 3 次數列  [50, 68, 80, 44, 93, 91, 64, 4]\n",
            "第 4 次數列  [44, 50, 68, 80, 93, 91, 64, 4]\n",
            "第 5 次數列  [44, 50, 68, 80, 93, 91, 64, 4]\n",
            "第 6 次數列  [44, 50, 68, 80, 91, 93, 64, 4]\n",
            "第 7 次數列  [44, 50, 64, 68, 80, 91, 93, 4]\n",
            "第 8 次數列  [4, 44, 50, 64, 68, 80, 91, 93]\n"
          ],
          "name": "stdout"
        }
      ]
    },
    {
      "cell_type": "markdown",
      "metadata": {
        "id": "MiWPt8bALDN5"
      },
      "source": [
        "請加入註解\n"
      ]
    }
  ]
}