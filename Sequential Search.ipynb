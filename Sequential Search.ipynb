{
  "nbformat": 4,
  "nbformat_minor": 0,
  "metadata": {
    "colab": {
      "name": "Untitled1.ipynb",
      "provenance": [],
      "authorship_tag": "ABX9TyMmGREhjz1+k0QC5o9ODEOp",
      "include_colab_link": true
    },
    "kernelspec": {
      "name": "python3",
      "display_name": "Python 3"
    }
  },
  "cells": [
    {
      "cell_type": "markdown",
      "metadata": {
        "id": "view-in-github",
        "colab_type": "text"
      },
      "source": [
        "<a href=\"https://colab.research.google.com/github/betty105/new/blob/master/Sequential%20Search.ipynb\" target=\"_parent\"><img src=\"https://colab.research.google.com/assets/colab-badge.svg\" alt=\"Open In Colab\"/></a>"
      ]
    },
    {
      "cell_type": "code",
      "metadata": {
        "id": "mvbgyvkAyy5f",
        "outputId": "642856f1-3c8b-4e0d-a349-70dfb843e423",
        "colab": {
          "base_uri": "https://localhost:8080/",
          "height": 35
        }
      },
      "source": [
        "data = [20,31,50,17,16,36,19,8]\n",
        "def sequential_search(data,key):\n",
        "  for i in data:\n",
        "    if i == key:\n",
        "      print(\"找到了\")\n",
        "      break\n",
        "sequential_search(data,17)"
      ],
      "execution_count": 20,
      "outputs": [
        {
          "output_type": "stream",
          "text": [
            "找到了\n"
          ],
          "name": "stdout"
        }
      ]
    },
    {
      "cell_type": "code",
      "metadata": {
        "id": "7qBTKtWG1yOL",
        "outputId": "5972342e-b507-4400-a54d-ebff17cee779",
        "colab": {
          "base_uri": "https://localhost:8080/",
          "height": 145
        }
      },
      "source": [
        "data = [20,21,50,17,16,36,19,8]\n",
        "def sequential_search(data,key):\n",
        "  for i, t in enumerate(data):\n",
        "    if t == key:\n",
        "      print(\"找到\")\n",
        "      break\n",
        "    else:\n",
        "      print(\"沒找到%s次\" % str(i+1) )\n",
        "      print(\"這次找的數是\",t)\n",
        "\n",
        "      \n",
        "sequential_search(data,17)"
      ],
      "execution_count": 24,
      "outputs": [
        {
          "output_type": "stream",
          "text": [
            "沒找到1次\n",
            "這次找的數是 20\n",
            "沒找到2次\n",
            "這次找的數是 21\n",
            "沒找到3次\n",
            "這次找的數是 50\n",
            "找到\n"
          ],
          "name": "stdout"
        }
      ]
    }
  ]
}